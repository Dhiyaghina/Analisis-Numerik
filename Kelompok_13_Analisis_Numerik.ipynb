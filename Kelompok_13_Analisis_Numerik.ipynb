{
  "nbformat": 4,
  "nbformat_minor": 0,
  "metadata": {
    "colab": {
      "provenance": []
    },
    "kernelspec": {
      "name": "python3",
      "display_name": "Python 3"
    },
    "language_info": {
      "name": "python"
    }
  },
  "cells": [
    {
      "cell_type": "markdown",
      "source": [
        "Kelompok 13\n",
        "1. Adilla Aulia Desriyanti - 2217051018\n",
        "2. Andria Laras Ramadhania - 2217051016\n",
        "3. Dhiya Ghina Hasri - 2217051068\n",
        "4. Dimas Habib Rizki - 2217051059\n",
        "5. Raihan Rifandi - 2217051043\n"
      ],
      "metadata": {
        "id": "9g7aW8TaHRGQ"
      }
    },
    {
      "cell_type": "code",
      "source": [
        "def gaussian_elimination(matrix):\n",
        "    n = len(matrix)\n",
        "\n",
        "    for i in range(n):\n",
        "        max_row = max(range(i, n), key=lambda x: abs(matrix[x][i]))\n",
        "\n",
        "        matrix[i], matrix[max_row] = matrix[max_row], matrix[i]\n",
        "\n",
        "        divisor = matrix[i][i]\n",
        "        for j in range(i, n + 1):\n",
        "            matrix[i][j] /= divisor\n",
        "\n",
        "        for j in range(n):\n",
        "            if j != i:\n",
        "                factor = matrix[j][i]\n",
        "                for k in range(i, n + 1):\n",
        "                    matrix[j][k] -= factor * matrix[i][k]\n",
        "\n",
        "    solution = [row[-1] for row in matrix]\n",
        "    return solution"
      ],
      "metadata": {
        "id": "vE97CCkU61Go"
      },
      "execution_count": null,
      "outputs": []
    },
    {
      "cell_type": "markdown",
      "source": [
        "1. Implementasi dalam program python untuk menyelesaikan persamaan berikut menggunakan eliminasi Gauss\n",
        "\n",
        "\n",
        "*   2x - 5y + 3z = 3\n",
        "*   4x + y - 2z = 1\n",
        "*   5x - 2y + z = 5\n"
      ],
      "metadata": {
        "id": "PB4wbVOfGPo7"
      }
    },
    {
      "cell_type": "code",
      "source": [
        "matrix1 = [\n",
        "    [2, -5, 3, 3],\n",
        "    [4, 1, -2, 1],\n",
        "    [5, -2, 1, 5]\n",
        "]\n",
        "\n",
        "solution = gaussian_elimination(matrix1)\n",
        "print(\"Solusi:\")\n",
        "print(f\"a = {int(solution[0])}\")\n",
        "print(f\"b = {int(solution[1])}\")\n",
        "print(f\"c = {int(solution[2])}\")"
      ],
      "metadata": {
        "colab": {
          "base_uri": "https://localhost:8080/"
        },
        "id": "T3Zp91llImTF",
        "outputId": "5425aafa-3714-44c5-d99d-22deec57b70a"
      },
      "execution_count": null,
      "outputs": [
        {
          "output_type": "stream",
          "name": "stdout",
          "text": [
            "Solusi:\n",
            "a = 1\n",
            "b = 1\n",
            "c = 2\n"
          ]
        }
      ]
    },
    {
      "cell_type": "markdown",
      "source": [
        "3. Implementasi dalam program python untuk menyelesaikan persamaan berikut menggunakan eliminasi Gauss :\n",
        "\n",
        "\n",
        "\n",
        "*   2a + 2b - 4c = 2\n",
        "*   3a - 2b + 5c = 10\n",
        "*   4a + 5b - 3c = 17"
      ],
      "metadata": {
        "id": "h2I9hRRdIqiV"
      }
    },
    {
      "cell_type": "code",
      "source": [
        "matrix3 = [\n",
        "    [2, 2, -4, 2],\n",
        "    [3, -2, 5, 10],\n",
        "    [4, 5, -3, 17]\n",
        "]\n",
        "\n",
        "solution = gaussian_elimination(matrix3)\n",
        "print(\"Solusi:\")\n",
        "print(f\"a = {int(solution[0])}\")\n",
        "print(f\"b = {int(solution[1])}\")\n",
        "print(f\"c = {int(solution[2])}\")"
      ],
      "metadata": {
        "colab": {
          "base_uri": "https://localhost:8080/"
        },
        "id": "SV1coF9_Ibth",
        "outputId": "235efa9c-9e06-4042-bb9b-4320e0e9b8c7"
      },
      "execution_count": null,
      "outputs": [
        {
          "output_type": "stream",
          "name": "stdout",
          "text": [
            "Solusi:\n",
            "a = 2\n",
            "b = 3\n",
            "c = 2\n"
          ]
        }
      ]
    }
  ]
}